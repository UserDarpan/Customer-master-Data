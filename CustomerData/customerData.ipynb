{
 "cells": [
  {
   "cell_type": "code",
   "execution_count": 1,
   "metadata": {},
   "outputs": [],
   "source": [
    "from langchain_groq import ChatGroq\n",
    "\n",
    "llm = ChatGroq(\n",
    "    temperature=0,\n",
    "    groq_api_key=\"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\",\n",
    "    model=\"llama-3.1-70b-versatile\",\n",
    ")"
   ]
  },
  {
   "cell_type": "code",
   "execution_count": 2,
   "metadata": {},
   "outputs": [
    {
     "name": "stderr",
     "output_type": "stream",
     "text": [
      "USER_AGENT environment variable not set, consider setting it to identify your requests.\n"
     ]
    },
    {
     "name": "stdout",
     "output_type": "stream",
     "text": [
      "\n",
      "\n",
      "\n",
      "NetSuite Login\n",
      "\n",
      "\n",
      "\n",
      "\n",
      "\n",
      "\n",
      "\n",
      "\n",
      "\n",
      "\n",
      "\n",
      "\n",
      "\n",
      "\n",
      "\n",
      "\n",
      "\n",
      "\n",
      "\n",
      "Log In\n",
      "\n",
      "\n",
      "\n",
      "\n",
      "\n",
      "\n",
      "Email address\n",
      "\n",
      "\n",
      "\n",
      "Valid email is required: foobar@example.com\n",
      "\n",
      "\n",
      "\n",
      "\n",
      "\n",
      "Password\n",
      "\n",
      "\n",
      "\n",
      "Password is required\n",
      "\n",
      "\n",
      "\n",
      "\n",
      "\n",
      "Remember Me\n",
      "\n",
      "\n",
      "\n",
      "\n",
      "\n",
      "Log In\n",
      "\n",
      "Forgot your password?\n",
      "\n",
      "\n",
      "\t\t\t\tBy clicking on the Log In button, you understand and agree to\n",
      "\t\t\t\tOracle Terms of Use\n",
      "\t\t\t\tand\n",
      "\t\t\t\tOracle Privacy Policy\n",
      "\n",
      "\n",
      "\n",
      "© Oracle\n",
      "|\n",
      "Oracle Terms of Use for NetSuite Support Portal\n",
      "\n",
      "\n",
      " \n",
      "\n",
      "\n"
     ]
    }
   ],
   "source": [
    "from langchain_community.document_loaders import WebBaseLoader\n",
    "\n",
    "loader = WebBaseLoader(\"https://4771862-sb4.app.netsuite.com/app/common/entity/custjob.nl?id=16924473\")\n",
    "page_data = loader.load().pop().page_content\n",
    "print(page_data)"
   ]
  }
 ],
 "metadata": {
  "kernelspec": {
   "display_name": "Python 3",
   "language": "python",
   "name": "python3"
  },
  "language_info": {
   "codemirror_mode": {
    "name": "ipython",
    "version": 3
   },
   "file_extension": ".py",
   "mimetype": "text/x-python",
   "name": "python",
   "nbconvert_exporter": "python",
   "pygments_lexer": "ipython3",
   "version": "3.10.0"
  }
 },
 "nbformat": 4,
 "nbformat_minor": 2
}

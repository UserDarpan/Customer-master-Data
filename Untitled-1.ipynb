{
 "cells": [
  {
   "cell_type": "code",
   "execution_count": 5,
   "metadata": {},
   "outputs": [],
   "source": [
    "import chromadb\n",
    "client = chromadb.Client()\n",
    "collection = client.create_collection(name=\"my_files\")"
   ]
  },
  {
   "cell_type": "code",
   "execution_count": 31,
   "metadata": {},
   "outputs": [],
   "source": [
    "# collection.add(\n",
    "#     documents=[\n",
    "#         \"The document is about New York\",\n",
    "#         \"The document is about delhi\"\n",
    "#     ],\n",
    "    \n",
    "#     metadatas=[\n",
    "#         {\"source\": \"https://en.wikipedia.org/wiki/New_York_City\"},\n",
    "#         {\"url\": \"https://en.wikipedia.org/wiki/Mumbai\"}\n",
    "#     ],\n",
    "#     ids=['id1', 'id2'],\n",
    "# )\n",
    "collection.add(\n",
    "    documents=[\"This is a document about machine learning.\"],  # The content\n",
    "    metadatas=[{\"source\": \"https://example.com/machine-learning\"}],  # Metadata with the URL\n",
    "    ids=[\"doc1\"]  # Unique ID for the document\n",
    ")"
   ]
  },
  {
   "cell_type": "code",
   "execution_count": 29,
   "metadata": {},
   "outputs": [],
   "source": [
    "collection.delete(ids=['doc1'])"
   ]
  },
  {
   "cell_type": "code",
   "execution_count": 30,
   "metadata": {},
   "outputs": [
    {
     "data": {
      "text/plain": [
       "{'ids': ['doc1'],\n",
       " 'embeddings': None,\n",
       " 'documents': ['This is a document about machine learning.'],\n",
       " 'uris': None,\n",
       " 'data': None,\n",
       " 'metadatas': [{'source': 'https://example.com/machine-learning'}],\n",
       " 'included': [<IncludeEnum.documents: 'documents'>,\n",
       "  <IncludeEnum.metadatas: 'metadatas'>]}"
      ]
     },
     "execution_count": 32,
     "metadata": {},
     "output_type": "execute_result"
    }
   ],
   "source": [
    "all_docs = collection.get()\n",
    "all_docs"
   ]
  }
 ],
 "metadata": {
  "kernelspec": {
   "display_name": "Python 3",
   "language": "python",
   "name": "python3"
  },
  "language_info": {
   "codemirror_mode": {
    "name": "ipython",
    "version": 3
   },
   "file_extension": ".py",
   "mimetype": "text/x-python",
   "name": "python",
   "nbconvert_exporter": "python",
   "pygments_lexer": "ipython3",
   "version": "3.10.0"
  }
 },
 "nbformat": 4,
 "nbformat_minor": 2
}
